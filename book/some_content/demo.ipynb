{
 "cells": [
  {
   "cell_type": "code",
   "execution_count": 2,
   "metadata": {
    "tags": [
     "thebe-remove-input-init"
    ]
   },
   "outputs": [
    {
     "name": "stderr",
     "output_type": "stream",
     "text": [
      "\n",
      "[notice] A new release of pip is available: 23.2.1 -> 25.0.1\n",
      "[notice] To update, run: python.exe -m pip install --upgrade pip\n"
     ]
    },
    {
     "name": "stdout",
     "output_type": "stream",
     "text": [
      "Note: you may need to restart the kernel to use updated packages.Collecting ipyquizjb==0.2.9\n",
      "  Using cached https://test-files.pythonhosted.org/packages/43/40/324224c95fb3953c1634debaf215d50df579475855323031ae469dfc3540/ipyquizjb-0.2.9-py3-none-any.whl (5.6 kB)\n",
      "Requirement already satisfied: ipython in c:\\users\\jørgen galdal\\documents\\lokalskoleprogrammering\\cyberbook\\.venv\\lib\\site-packages (from ipyquizjb==0.2.9) (8.32.0)\n",
      "Requirement already satisfied: ipywidgets in c:\\users\\jørgen galdal\\documents\\lokalskoleprogrammering\\cyberbook\\.venv\\lib\\site-packages (from ipyquizjb==0.2.9) (8.1.5)\n",
      "Requirement already satisfied: requests in c:\\users\\jørgen galdal\\documents\\lokalskoleprogrammering\\cyberbook\\.venv\\lib\\site-packages (from ipyquizjb==0.2.9) (2.32.3)\n",
      "Requirement already satisfied: colorama in c:\\users\\jørgen galdal\\documents\\lokalskoleprogrammering\\cyberbook\\.venv\\lib\\site-packages (from ipython->ipyquizjb==0.2.9) (0.4.6)\n",
      "Requirement already satisfied: decorator in c:\\users\\jørgen galdal\\documents\\lokalskoleprogrammering\\cyberbook\\.venv\\lib\\site-packages (from ipython->ipyquizjb==0.2.9) (5.1.1)\n",
      "Requirement already satisfied: jedi>=0.16 in c:\\users\\jørgen galdal\\documents\\lokalskoleprogrammering\\cyberbook\\.venv\\lib\\site-packages (from ipython->ipyquizjb==0.2.9) (0.19.2)\n",
      "Requirement already satisfied: matplotlib-inline in c:\\users\\jørgen galdal\\documents\\lokalskoleprogrammering\\cyberbook\\.venv\\lib\\site-packages (from ipython->ipyquizjb==0.2.9) (0.1.7)\n",
      "Requirement already satisfied: prompt_toolkit<3.1.0,>=3.0.41 in c:\\users\\jørgen galdal\\documents\\lokalskoleprogrammering\\cyberbook\\.venv\\lib\\site-packages (from ipython->ipyquizjb==0.2.9) (3.0.50)\n",
      "Requirement already satisfied: pygments>=2.4.0 in c:\\users\\jørgen galdal\\documents\\lokalskoleprogrammering\\cyberbook\\.venv\\lib\\site-packages (from ipython->ipyquizjb==0.2.9) (2.19.1)\n",
      "Requirement already satisfied: stack_data in c:\\users\\jørgen galdal\\documents\\lokalskoleprogrammering\\cyberbook\\.venv\\lib\\site-packages (from ipython->ipyquizjb==0.2.9) (0.6.3)\n",
      "Requirement already satisfied: traitlets>=5.13.0 in c:\\users\\jørgen galdal\\documents\\lokalskoleprogrammering\\cyberbook\\.venv\\lib\\site-packages (from ipython->ipyquizjb==0.2.9) (5.14.3)\n",
      "Requirement already satisfied: comm>=0.1.3 in c:\\users\\jørgen galdal\\documents\\lokalskoleprogrammering\\cyberbook\\.venv\\lib\\site-packages (from ipywidgets->ipyquizjb==0.2.9) (0.2.2)\n",
      "Requirement already satisfied: widgetsnbextension~=4.0.12 in c:\\users\\jørgen galdal\\documents\\lokalskoleprogrammering\\cyberbook\\.venv\\lib\\site-packages (from ipywidgets->ipyquizjb==0.2.9) (4.0.13)\n",
      "Requirement already satisfied: jupyterlab-widgets~=3.0.12 in c:\\users\\jørgen galdal\\documents\\lokalskoleprogrammering\\cyberbook\\.venv\\lib\\site-packages (from ipywidgets->ipyquizjb==0.2.9) (3.0.13)\n",
      "Requirement already satisfied: charset-normalizer<4,>=2 in c:\\users\\jørgen galdal\\documents\\lokalskoleprogrammering\\cyberbook\\.venv\\lib\\site-packages (from requests->ipyquizjb==0.2.9) (3.4.1)\n",
      "Requirement already satisfied: idna<4,>=2.5 in c:\\users\\jørgen galdal\\documents\\lokalskoleprogrammering\\cyberbook\\.venv\\lib\\site-packages (from requests->ipyquizjb==0.2.9) (3.10)\n",
      "Requirement already satisfied: urllib3<3,>=1.21.1 in c:\\users\\jørgen galdal\\documents\\lokalskoleprogrammering\\cyberbook\\.venv\\lib\\site-packages (from requests->ipyquizjb==0.2.9) (2.3.0)\n",
      "Requirement already satisfied: certifi>=2017.4.17 in c:\\users\\jørgen galdal\\documents\\lokalskoleprogrammering\\cyberbook\\.venv\\lib\\site-packages (from requests->ipyquizjb==0.2.9) (2025.1.31)\n",
      "Requirement already satisfied: parso<0.9.0,>=0.8.4 in c:\\users\\jørgen galdal\\documents\\lokalskoleprogrammering\\cyberbook\\.venv\\lib\\site-packages (from jedi>=0.16->ipython->ipyquizjb==0.2.9) (0.8.4)\n",
      "Requirement already satisfied: wcwidth in c:\\users\\jørgen galdal\\documents\\lokalskoleprogrammering\\cyberbook\\.venv\\lib\\site-packages (from prompt_toolkit<3.1.0,>=3.0.41->ipython->ipyquizjb==0.2.9) (0.2.13)\n",
      "Requirement already satisfied: executing>=1.2.0 in c:\\users\\jørgen galdal\\documents\\lokalskoleprogrammering\\cyberbook\\.venv\\lib\\site-packages (from stack_data->ipython->ipyquizjb==0.2.9) (2.2.0)\n",
      "Requirement already satisfied: asttokens>=2.1.0 in c:\\users\\jørgen galdal\\documents\\lokalskoleprogrammering\\cyberbook\\.venv\\lib\\site-packages (from stack_data->ipython->ipyquizjb==0.2.9) (3.0.0)\n",
      "Requirement already satisfied: pure-eval in c:\\users\\jørgen galdal\\documents\\lokalskoleprogrammering\\cyberbook\\.venv\\lib\\site-packages (from stack_data->ipython->ipyquizjb==0.2.9) (0.2.3)\n",
      "\n"
     ]
    }
   ],
   "source": [
    "%pip install https://test-files.pythonhosted.org/packages/43/40/324224c95fb3953c1634debaf215d50df579475855323031ae469dfc3540/ipyquizjb-0.2.9-py3-none-any.whl\n",
    "from ipyquizjb import display_json, display_simple_search"
   ]
  },
  {
   "cell_type": "markdown",
   "metadata": {},
   "source": [
    "# Demo"
   ]
  },
  {
   "cell_type": "code",
   "execution_count": 6,
   "metadata": {
    "tags": [
     "thebe-remove-input-init"
    ]
   },
   "outputs": [
    {
     "data": {
      "application/vnd.jupyter.widget-view+json": {
       "model_id": "ee9c1fd8bdd64a8a825e8ac8abfa93b1",
       "version_major": 2,
       "version_minor": 0
      },
      "text/plain": [
       "VBox(children=(HTMLMath(value='<h3>What is the derivative of \\\\( \\\\sin(x) \\\\)?</h3>'), HTMLMath(value='<p></p>…"
      ]
     },
     "metadata": {},
     "output_type": "display_data"
    },
    {
     "data": {
      "application/vnd.jupyter.widget-view+json": {
       "model_id": "155415f9140e4260951dfe011baada39",
       "version_major": 2,
       "version_minor": 0
      },
      "text/plain": [
       "VBox(children=(HTMLMath(value=\"<h3>What's the derivative of z (z'), with respect to x, of z = 4y+x?</h3>\"), HT…"
      ]
     },
     "metadata": {},
     "output_type": "display_data"
    },
    {
     "data": {
      "application/vnd.jupyter.widget-view+json": {
       "model_id": "14a1550392b2441180f346ac7a115b6b",
       "version_major": 2,
       "version_minor": 0
      },
      "text/plain": [
       "VBox(children=(HTMLMath(value='<h3>Mention some famous women programmers.</h3>'), Button(description='Show sol…"
      ]
     },
     "metadata": {},
     "output_type": "display_data"
    }
   ],
   "source": [
    "test_json = r\"\"\"{\n",
    "  \"questions\": [\n",
    "    {\n",
    "      \"type\": \"MULTIPLE_CHOICE\",\n",
    "      \"body\": \"What is the derivative of \\\\( \\\\sin(x) \\\\)?\",\n",
    "      \"answers\": [\n",
    "        \"\\\\( -\\\\cos(x) \\\\).\",\n",
    "        \"\\\\( \\\\tan(x) \\\\).\",\n",
    "        \"\\\\( \\\\cos(x) \\\\).\"\n",
    "      ],\n",
    "      \"answer\": [\"\\\\( \\\\cos(x) \\\\).\"],\n",
    "      \"notes\": [\"The derivative of \\\\( \\\\sin(x) \\\\) is \\\\( \\\\cos(x) \\\\).\"]\n",
    "    },\n",
    "    {\n",
    "      \"type\": \"NUMERIC\",\n",
    "      \"body\": \"What's the derivative of z (z'), with respect to x, of z = 4y+x?\",\n",
    "      \"answer\": \"1\",\n",
    "      \"notes\": []\n",
    "    },\n",
    "    {\"type\": \"TEXT\", \n",
    "    \"body\": \"Mention some famous women programmers.\", \n",
    "    \"notes\": [\"Ada Lovelace and Grace Hopper are examples of famous women in computing.\"]}\n",
    "  ],\n",
    "  \"status\": \"success\"\n",
    "}\"\"\"\n",
    "\n",
    "display_json(test_json)"
   ]
  },
  {
   "cell_type": "code",
   "execution_count": 1,
   "metadata": {},
   "outputs": [
    {
     "ename": "NameError",
     "evalue": "name 'display_simple_search' is not defined",
     "output_type": "error",
     "traceback": [
      "\u001b[1;31m---------------------------------------------------------------------------\u001b[0m",
      "\u001b[1;31mNameError\u001b[0m                                 Traceback (most recent call last)",
      "Cell \u001b[1;32mIn[1], line 2\u001b[0m\n\u001b[0;32m      1\u001b[0m \u001b[38;5;66;03m# Does not work online yet, but works locally\u001b[39;00m\n\u001b[1;32m----> 2\u001b[0m \u001b[43mdisplay_simple_search\u001b[49m(\u001b[38;5;124m\"\u001b[39m\u001b[38;5;124mlaplace\u001b[39m\u001b[38;5;124m\"\u001b[39m, \u001b[38;5;241m2\u001b[39m)\n",
      "\u001b[1;31mNameError\u001b[0m: name 'display_simple_search' is not defined"
     ]
    }
   ],
   "source": [
    "# Does not work online yet, but works locally\n",
    "display_simple_search(\"laplace\", 2)"
   ]
  }
 ],
 "metadata": {
  "kernelspec": {
   "display_name": ".venv",
   "language": "python",
   "name": "python3"
  },
  "language_info": {
   "codemirror_mode": {
    "name": "ipython",
    "version": 3
   },
   "file_extension": ".py",
   "mimetype": "text/x-python",
   "name": "python",
   "nbconvert_exporter": "python",
   "pygments_lexer": "ipython3",
   "version": "3.12.1"
  }
 },
 "nbformat": 4,
 "nbformat_minor": 2
}
