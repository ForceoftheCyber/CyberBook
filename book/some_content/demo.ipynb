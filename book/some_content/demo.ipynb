{
 "cells": [
  {
   "cell_type": "code",
   "execution_count": 3,
   "metadata": {
    "tags": [
     "thebe-remove-input-init"
    ]
   },
   "outputs": [
    {
     "name": "stdout",
     "output_type": "stream",
     "text": [
      "Collecting ipyquizjb==0.2.9\n",
      "  Using cached https://test-files.pythonhosted.org/packages/43/40/324224c95fb3953c1634debaf215d50df579475855323031ae469dfc3540/ipyquizjb-0.2.9-py3-none-any.whl (5.6 kB)\n",
      "Requirement already satisfied: ipython in /Users/heap/programming/IT2901/ForceoftheCyber/CyberBook/venv/lib/python3.13/site-packages (from ipyquizjb==0.2.9) (8.32.0)\n",
      "Requirement already satisfied: ipywidgets in /Users/heap/programming/IT2901/ForceoftheCyber/CyberBook/venv/lib/python3.13/site-packages (from ipyquizjb==0.2.9) (8.1.5)\n",
      "Requirement already satisfied: requests in /Users/heap/programming/IT2901/ForceoftheCyber/CyberBook/venv/lib/python3.13/site-packages (from ipyquizjb==0.2.9) (2.32.3)\n",
      "Requirement already satisfied: decorator in /Users/heap/programming/IT2901/ForceoftheCyber/CyberBook/venv/lib/python3.13/site-packages (from ipython->ipyquizjb==0.2.9) (5.2.1)\n",
      "Requirement already satisfied: jedi>=0.16 in /Users/heap/programming/IT2901/ForceoftheCyber/CyberBook/venv/lib/python3.13/site-packages (from ipython->ipyquizjb==0.2.9) (0.19.2)\n",
      "Requirement already satisfied: matplotlib-inline in /Users/heap/programming/IT2901/ForceoftheCyber/CyberBook/venv/lib/python3.13/site-packages (from ipython->ipyquizjb==0.2.9) (0.1.7)\n",
      "Requirement already satisfied: pexpect>4.3 in /Users/heap/programming/IT2901/ForceoftheCyber/CyberBook/venv/lib/python3.13/site-packages (from ipython->ipyquizjb==0.2.9) (4.9.0)\n",
      "Requirement already satisfied: prompt_toolkit<3.1.0,>=3.0.41 in /Users/heap/programming/IT2901/ForceoftheCyber/CyberBook/venv/lib/python3.13/site-packages (from ipython->ipyquizjb==0.2.9) (3.0.50)\n",
      "Requirement already satisfied: pygments>=2.4.0 in /Users/heap/programming/IT2901/ForceoftheCyber/CyberBook/venv/lib/python3.13/site-packages (from ipython->ipyquizjb==0.2.9) (2.19.1)\n",
      "Requirement already satisfied: stack_data in /Users/heap/programming/IT2901/ForceoftheCyber/CyberBook/venv/lib/python3.13/site-packages (from ipython->ipyquizjb==0.2.9) (0.6.3)\n",
      "Requirement already satisfied: traitlets>=5.13.0 in /Users/heap/programming/IT2901/ForceoftheCyber/CyberBook/venv/lib/python3.13/site-packages (from ipython->ipyquizjb==0.2.9) (5.14.3)\n",
      "Requirement already satisfied: comm>=0.1.3 in /Users/heap/programming/IT2901/ForceoftheCyber/CyberBook/venv/lib/python3.13/site-packages (from ipywidgets->ipyquizjb==0.2.9) (0.2.2)\n",
      "Requirement already satisfied: widgetsnbextension~=4.0.12 in /Users/heap/programming/IT2901/ForceoftheCyber/CyberBook/venv/lib/python3.13/site-packages (from ipywidgets->ipyquizjb==0.2.9) (4.0.13)\n",
      "Requirement already satisfied: jupyterlab-widgets~=3.0.12 in /Users/heap/programming/IT2901/ForceoftheCyber/CyberBook/venv/lib/python3.13/site-packages (from ipywidgets->ipyquizjb==0.2.9) (3.0.13)\n",
      "Requirement already satisfied: charset-normalizer<4,>=2 in /Users/heap/programming/IT2901/ForceoftheCyber/CyberBook/venv/lib/python3.13/site-packages (from requests->ipyquizjb==0.2.9) (3.4.1)\n",
      "Requirement already satisfied: idna<4,>=2.5 in /Users/heap/programming/IT2901/ForceoftheCyber/CyberBook/venv/lib/python3.13/site-packages (from requests->ipyquizjb==0.2.9) (3.10)\n",
      "Requirement already satisfied: urllib3<3,>=1.21.1 in /Users/heap/programming/IT2901/ForceoftheCyber/CyberBook/venv/lib/python3.13/site-packages (from requests->ipyquizjb==0.2.9) (2.3.0)\n",
      "Requirement already satisfied: certifi>=2017.4.17 in /Users/heap/programming/IT2901/ForceoftheCyber/CyberBook/venv/lib/python3.13/site-packages (from requests->ipyquizjb==0.2.9) (2025.1.31)\n",
      "Requirement already satisfied: parso<0.9.0,>=0.8.4 in /Users/heap/programming/IT2901/ForceoftheCyber/CyberBook/venv/lib/python3.13/site-packages (from jedi>=0.16->ipython->ipyquizjb==0.2.9) (0.8.4)\n",
      "Requirement already satisfied: ptyprocess>=0.5 in /Users/heap/programming/IT2901/ForceoftheCyber/CyberBook/venv/lib/python3.13/site-packages (from pexpect>4.3->ipython->ipyquizjb==0.2.9) (0.7.0)\n",
      "Requirement already satisfied: wcwidth in /Users/heap/programming/IT2901/ForceoftheCyber/CyberBook/venv/lib/python3.13/site-packages (from prompt_toolkit<3.1.0,>=3.0.41->ipython->ipyquizjb==0.2.9) (0.2.13)\n",
      "Requirement already satisfied: executing>=1.2.0 in /Users/heap/programming/IT2901/ForceoftheCyber/CyberBook/venv/lib/python3.13/site-packages (from stack_data->ipython->ipyquizjb==0.2.9) (2.2.0)\n",
      "Requirement already satisfied: asttokens>=2.1.0 in /Users/heap/programming/IT2901/ForceoftheCyber/CyberBook/venv/lib/python3.13/site-packages (from stack_data->ipython->ipyquizjb==0.2.9) (3.0.0)\n",
      "Requirement already satisfied: pure-eval in /Users/heap/programming/IT2901/ForceoftheCyber/CyberBook/venv/lib/python3.13/site-packages (from stack_data->ipython->ipyquizjb==0.2.9) (0.2.3)\n",
      "\n",
      "\u001b[1m[\u001b[0m\u001b[34;49mnotice\u001b[0m\u001b[1;39;49m]\u001b[0m\u001b[39;49m A new release of pip is available: \u001b[0m\u001b[31;49m24.3.1\u001b[0m\u001b[39;49m -> \u001b[0m\u001b[32;49m25.0.1\u001b[0m\n",
      "\u001b[1m[\u001b[0m\u001b[34;49mnotice\u001b[0m\u001b[1;39;49m]\u001b[0m\u001b[39;49m To update, run: \u001b[0m\u001b[32;49mpip install --upgrade pip\u001b[0m\n",
      "Note: you may need to restart the kernel to use updated packages.\n"
     ]
    }
   ],
   "source": [
    "%pip install https://test-files.pythonhosted.org/packages/43/40/324224c95fb3953c1634debaf215d50df579475855323031ae469dfc3540/ipyquizjb-0.2.9-py3-none-any.whl\n",
    "from ipyquizjb import display_json, display_simple_search"
   ]
  },
  {
   "cell_type": "markdown",
   "metadata": {},
   "source": [
    "# Demo"
   ]
  },
  {
   "cell_type": "code",
   "execution_count": 4,
   "metadata": {},
   "outputs": [
    {
     "data": {
      "application/vnd.jupyter.widget-view+json": {
       "model_id": "36cb5e804a7349d2a8a1ed365ff3ddef",
       "version_major": 2,
       "version_minor": 0
      },
      "text/plain": [
       "VBox(children=(HTMLMath(value='<h3>What is the derivative of \\\\( \\\\sin(x) \\\\)?</h3>'), HTMLMath(value='<p></p>…"
      ]
     },
     "metadata": {},
     "output_type": "display_data"
    },
    {
     "data": {
      "application/vnd.jupyter.widget-view+json": {
       "model_id": "ee19b0430d6948cf9a2156dee94089bc",
       "version_major": 2,
       "version_minor": 0
      },
      "text/plain": [
       "VBox(children=(HTMLMath(value=\"<h3>What's the derivative of z (z'), with respect to x, of z = 4y+x?</h3>\"), HT…"
      ]
     },
     "metadata": {},
     "output_type": "display_data"
    }
   ],
   "source": [
    "from ipyquizjb.questions import display_json\n",
    "\n",
    "test_json = r\"\"\"{\n",
    "  \"questions\": [\n",
    "    {\n",
    "      \"type\": \"MULTIPLE_CHOICE\",\n",
    "      \"body\": \"What is the derivative of \\\\( \\\\sin(x) \\\\)?\",\n",
    "      \"answers\": [\n",
    "        \"\\\\( -\\\\cos(x) \\\\).\",\n",
    "        \"\\\\( \\\\tan(x) \\\\).\",\n",
    "        \"\\\\( \\\\cos(x) \\\\).\"\n",
    "      ],\n",
    "      \"answer\": [\"\\\\( \\\\cos(x) \\\\).\"],\n",
    "      \"notes\": [\"The derivative of \\\\( \\\\sin(x) \\\\) is \\\\( \\\\cos(x) \\\\).\"]\n",
    "    },\n",
    "    {\n",
    "      \"type\": \"NUMERIC\",\n",
    "      \"body\": \"What's the derivative of z (z'), with respect to x, of z = 4y+x?\",\n",
    "      \"answer\": \"1\",\n",
    "      \"notes\": []\n",
    "    }\n",
    "  ],\n",
    "  \"status\": \"success\"\n",
    "}\"\"\"\n",
    "\n",
    "display_json(test_json)"
   ]
  },
  {
   "cell_type": "code",
   "execution_count": 5,
   "metadata": {},
   "outputs": [
    {
     "data": {
      "application/vnd.jupyter.widget-view+json": {
       "model_id": "5157497bfc1e4c5794082e28a191ea51",
       "version_major": 2,
       "version_minor": 0
      },
      "text/plain": [
       "VBox(children=(HTMLMath(value='<h3>What was Laplace known for?</h3>'), HTMLMath(value='<p></p>'), HBox(childre…"
      ]
     },
     "metadata": {},
     "output_type": "display_data"
    },
    {
     "data": {
      "application/vnd.jupyter.widget-view+json": {
       "model_id": "ddb8f51c4d73490eb99a080af05a1910",
       "version_major": 2,
       "version_minor": 0
      },
      "text/plain": [
       "VBox(children=(HTMLMath(value='<h3>Which measurement unit is associated to $s$ in a Laplace transform of a sig…"
      ]
     },
     "metadata": {},
     "output_type": "display_data"
    }
   ],
   "source": [
    "# Does not work online yet, but works locally\n",
    "display_simple_search(\"laplace\", 2)"
   ]
  }
 ],
 "metadata": {
  "kernelspec": {
   "display_name": "venv",
   "language": "python",
   "name": "python3"
  },
  "language_info": {
   "codemirror_mode": {
    "name": "ipython",
    "version": 3
   },
   "file_extension": ".py",
   "mimetype": "text/x-python",
   "name": "python",
   "nbconvert_exporter": "python",
   "pygments_lexer": "ipython3",
   "version": "3.13.1"
  }
 },
 "nbformat": 4,
 "nbformat_minor": 2
}
