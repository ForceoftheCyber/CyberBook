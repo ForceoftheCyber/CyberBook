{
 "cells": [
  {
   "cell_type": "code",
   "execution_count": null,
   "metadata": {
    "tags": [
     "thebe-remove-input-init"
    ]
   },
   "outputs": [],
   "source": [
    "#####\n",
    "# Initial cell\n",
    "#####\n",
    "import ipywidgets as widgets\n",
    "from IPython.display import display\n",
    "from collections.abc import Callable\n",
    "\n",
    "\n",
    "def multiple_choice(question: str, options: list, correct_option) -> widgets.Widget:\n",
    "    options_widget = widgets.ToggleButtons(\n",
    "        options=options,\n",
    "        value=None,\n",
    "        #    layout={'width': 'max-content'}, # If the items' names are long\n",
    "        disabled=False\n",
    "    )\n",
    "\n",
    "    def eval_func(widget):\n",
    "        if widget.value is None:\n",
    "            return None\n",
    "        return widget.value == correct_option\n",
    "\n",
    "    return generic_question(question, options_widget, eval_func)\n",
    "\n",
    "\n",
    "def multiple_answers(question: str, options: list, correct_answers: list) -> widgets.Widget:\n",
    "    buttons = [widgets.ToggleButton(\n",
    "        value=False, description=option) for option in options]\n",
    "\n",
    "    def feedback(evaluation_result):\n",
    "        if evaluation_result == None:\n",
    "            return \"Please pick an answer\"\n",
    "        elif evaluation_result == 0:\n",
    "            return \"wrong\"\n",
    "        else:\n",
    "            return f\"Correct answers: {evaluation_result}/{len(correct_answers)}\"\n",
    "\n",
    "    def eval_func(widget: widgets.HBox):\n",
    "        answers = set(\n",
    "            button.description for button in widget.children if button.value)\n",
    "        if len(answers) == 0:\n",
    "            return None\n",
    "        # Evaluates number of correct choices minus number of incorrect choices.\n",
    "        return len(answers.intersection(correct_answers)) - len(answers.difference(correct_answers))\n",
    "\n",
    "    return generic_question(question, widgets.HBox(buttons), eval_func, feedback)\n",
    "\n",
    "\n",
    "def standard_feedback(evaluation_result: int):\n",
    "    if evaluation_result == None:\n",
    "        return \"No answer selected\"\n",
    "    elif evaluation_result == 0:\n",
    "        return \"Wrong answer\"\n",
    "    else:\n",
    "        return \"Correct\"\n",
    "\n",
    "\n",
    "def generic_question(question, input_widget, \n",
    "                     evaluation_function: Callable[[widgets.Widget], bool | None], \n",
    "                     feedback=standard_feedback) -> widgets.Widget:\n",
    "\n",
    "    title_widget = widgets.HTMLMath(value=f\"<h3>{question}</h3>\")\n",
    "    output = widgets.Output()\n",
    "\n",
    "    def _inner_check(button):\n",
    "        with output:\n",
    "            output.outputs = [\n",
    "                {'name': 'stdout', 'text': feedback(evaluation_function(input_widget)), 'output_type': 'stream'}]\n",
    "\n",
    "    button = widgets.Button(description=\"Check answer\", icon=\"check\",\n",
    "                            style=dict(\n",
    "                                button_color=\"lightgreen\"\n",
    "                            ))\n",
    "    button.on_click(_inner_check)\n",
    "    layout = widgets.VBox([title_widget,\n",
    "                           widgets.HBox([input_widget],\n",
    "                                        layout=widgets.Layout(padding=\"10px 20px 10px 20px\", border=\"solid\")),\n",
    "                           widgets.VBox([button, output],\n",
    "                                        layout=widgets.Layout(margin=\"10px 10px 0px 0px\"))])\n",
    "\n",
    "    return layout\n",
    "\n",
    "\n",
    "def numeric_input(question: str, correct_answer: float) -> widgets.Widget:\n",
    "\n",
    "    input_widget = widgets.FloatText(\n",
    "        value=None,\n",
    "    )\n",
    "    def eval_func(widget): \n",
    "        if widget.value is None:\n",
    "            return None\n",
    "        return widget.value == correct_answer\n",
    "    return generic_question(question, input_widget, eval_func)\n",
    "\n",
    "\n",
    "def code_question(question: str, expected_outputs) -> widgets.Widget:\n",
    "    \"\"\"\n",
    "    params:\n",
    "    - expected_output - a list of pairs in the format:\n",
    "        - ((inputs), (expected_output))\n",
    "        - Example: [\n",
    "            ((2, 4), 8)\n",
    "        ]\n",
    "    \"\"\"\n",
    "\n",
    "    input_widget = widgets.Text(\n",
    "        description=\"What is the name of your function?\", placeholder=\"myFunction\",\n",
    "        style=dict(description_width=\"initial\"))\n",
    "\n",
    "    def eval_func(widget):\n",
    "        function_name = widget.value\n",
    "        if function_name not in globals():\n",
    "            # Error handling\n",
    "            return None\n",
    "\n",
    "        function = globals()[function_name]\n",
    "        return all([function(*test_input) == test_output\n",
    "                    for test_input, test_output in expected_outputs])\n",
    "    \n",
    "    def feedback(evaluation_result):\n",
    "        if evaluation_result is None:\n",
    "            return \"No function defined with that name. Remember to run the cell to define the function.\"\n",
    "        if evaluation_result:\n",
    "            return \"Correct\"\n",
    "        else:\n",
    "            return \"Incorrect answer\"\n",
    "\n",
    "    return generic_question(question, input_widget, eval_func, feedback)\n",
    "\n",
    "\n",
    "def display_json() -> widgets.Widget:\n",
    "    # Delegating\n",
    "\n",
    "    pass"
   ]
  },
  {
   "cell_type": "markdown",
   "metadata": {},
   "source": [
    "# Test quiz"
   ]
  },
  {
   "cell_type": "code",
   "execution_count": 56,
   "metadata": {},
   "outputs": [],
   "source": [
    "# Define your function for task 1 here:\n",
    "\n",
    "def test(x, y):\n",
    "    return 2+x+y\n",
    "\n",
    "def tet(x, y):\n",
    "    return x+y"
   ]
  },
  {
   "cell_type": "code",
   "execution_count": 67,
   "metadata": {
    "tags": [
     "thebe-remove-input-init"
    ]
   },
   "outputs": [
    {
     "data": {
      "application/vnd.jupyter.widget-view+json": {
       "model_id": "5210883e3cec46ba8f552fbd7ceccdc1",
       "version_major": 2,
       "version_minor": 0
      },
      "text/plain": [
       "HTML(value='<h2>Test your knowledge</h2>')"
      ]
     },
     "metadata": {},
     "output_type": "display_data"
    },
    {
     "data": {
      "application/vnd.jupyter.widget-view+json": {
       "model_id": "44c08dbf594a492b8c2640a4d811ad5f",
       "version_major": 2,
       "version_minor": 0
      },
      "text/plain": [
       "VBox(children=(HTMLMath(value='<h3>Hva heter du?</h3>'), HBox(children=(ToggleButtons(options=('Jakob', 'Jørge…"
      ]
     },
     "metadata": {},
     "output_type": "display_data"
    },
    {
     "data": {
      "application/vnd.jupyter.widget-view+json": {
       "model_id": "ee7e2d030ade4b388e596ec2673ad50a",
       "version_major": 2,
       "version_minor": 0
      },
      "text/plain": [
       "VBox(children=(HTMLMath(value='<h3>What is 2 + 5?</h3>'), HBox(children=(FloatText(value=0.0),), layout=Layout…"
      ]
     },
     "metadata": {},
     "output_type": "display_data"
    },
    {
     "data": {
      "application/vnd.jupyter.widget-view+json": {
       "model_id": "4a19cab5485044aea44c6c9d79208bc9",
       "version_major": 2,
       "version_minor": 0
      },
      "text/plain": [
       "VBox(children=(HTMLMath(value='<h3>What is 2/4 + 1/4?</h3>'), HBox(children=(FloatText(value=0.0),), layout=La…"
      ]
     },
     "metadata": {},
     "output_type": "display_data"
    },
    {
     "data": {
      "application/vnd.jupyter.widget-view+json": {
       "model_id": "38a1bece265d476599b9e617d79ec2bf",
       "version_major": 2,
       "version_minor": 0
      },
      "text/plain": [
       "VBox(children=(HTMLMath(value='<h3>Make a function that returns the sum of two numbers</h3>'), HBox(children=(…"
      ]
     },
     "metadata": {},
     "output_type": "display_data"
    },
    {
     "data": {
      "application/vnd.jupyter.widget-view+json": {
       "model_id": "3342a057af0543c6909307fd0a424675",
       "version_major": 2,
       "version_minor": 0
      },
      "text/plain": [
       "VBox(children=(HTMLMath(value='<h3>Which of these are cheeses?</h3>'), HBox(children=(HBox(children=(ToggleBut…"
      ]
     },
     "metadata": {},
     "output_type": "display_data"
    }
   ],
   "source": [
    "display(widgets.HTML(\"<h2>Test your knowledge</h2>\"))\n",
    "\n",
    "display(multiple_choice(\"Hva heter du?\", [\"Jakob\", \"Jørgen\", \"Ravi\"], \"Jakob\"))\n",
    "\n",
    "display(numeric_input(\"What is 2 + 5?\", 7))\n",
    "\n",
    "display(numeric_input(\"What is 2/4 + 1/4?\", 0.75))\n",
    "\n",
    "display(code_question(\n",
    "    \"Make a function that returns the sum of two numbers\", [((2, 2), 4)]))\n",
    "\n",
    "display(multiple_answers(\"Which of these are cheeses?\",\n",
    "                         options=[\"Gouda\", \"Emmentaler\", \"Brie\", \"Cat\", \"Dog\"],\n",
    "                         correct_answers=[\"Gouda\", \"Emmentaler\", \"Brie\"]))\n",
    "\n",
    "# buttons = [widgets.ToggleButton(value=False, description=option) for option in [\"Gouda\", \"Emmentaler\", \"Brie\", \"Cat\", \"Dog\"]]\n",
    "# display(buttons)\n",
    "# import time\n",
    "# time.sleep(20)\n",
    "# print(\"Choose now\")\n",
    "# time.sleep(10)\n",
    "\n",
    "# print([button.description for button in buttons if button.value])\n"
   ]
  },
  {
   "cell_type": "code",
   "execution_count": 58,
   "metadata": {
    "tags": [
     "thebe-remove-input-init"
    ]
   },
   "outputs": [],
   "source": [
    "# # title = widgets.Text(value=\"What is the best pizza topping\")\n",
    "# title = widgets.HTML(value=\"<h2>What is the best topping?</h2>\")\n",
    "# buttons = widgets.RadioButtons(\n",
    "#     options=['pepperoni', 'pineapple', 'anchovies'],\n",
    "#    value=None, # Defaults to 'pineapple'\n",
    "# #    layout={'width': 'max-content'}, # If the items' names are long\n",
    "#     disabled=False\n",
    "# )\n",
    "\n",
    "# from urllib.request import urlopen\n",
    "\n",
    "# # file = urlopen(\"https://plus.unsplash.com/premium_photo-1664474619075-644dd191935f?fm=jpg&q=60&w=3000&ixlib=rb-4.0.3&ixid=M3wxMjA3fDB8MHxzZWFyY2h8MXx8aW1hZ2V8ZW58MHx8MHx8fDA%3D\")\n",
    "# file = open(\"../figures/image.jpg\", \"rb\")\n",
    "# image = file.read()\n",
    "# image = widgets.Image(\n",
    "#     value=image,\n",
    "#     format='jpg',\n",
    "#     width=300,\n",
    "#     height=400,\n",
    "# )\n",
    "\n",
    "# def f(value):\n",
    "#     if value == None:\n",
    "#         print(\"Answer!\")\n",
    "#     # print(buttons)\n",
    "#     # value = buttons.value\n",
    "#     elif value == \"pepperoni\":\n",
    "#         print(\"Correct!\")\n",
    "#     else:\n",
    "#         print(\"Incorrect!\")\n",
    "\n",
    "# display(title)\n",
    "# display(image)\n",
    "# display(buttons)\n",
    "# display(widgets.interactive_output(f, {\"value\": buttons}))\n",
    "\n",
    "# output = widgets.Output()\n",
    "# button = widgets.Button(description=\"Check answer\")\n",
    "# def _inner_check(button):\n",
    "#     with output:\n",
    "#         if \"test\" not in globals():\n",
    "#             output.outputs = [{'name': 'stdout', 'text': 'Please define the function in the cell above!', 'output_type': 'stream'}]\n",
    "#         elif test(2) == 4:\n",
    "#             output.outputs = [{'name': 'stdout', 'text': 'Correct!', 'output_type': 'stream'}]\n",
    "#         else:\n",
    "#             output.outputs = [{'name': 'stdout', 'text': 'Incorrect!', 'output_type': 'stream'}]\n",
    "# button.on_click(_inner_check)\n",
    "# display(button, output)\n"
   ]
  },
  {
   "cell_type": "code",
   "execution_count": null,
   "metadata": {},
   "outputs": [],
   "source": []
  },
  {
   "cell_type": "code",
   "execution_count": null,
   "metadata": {},
   "outputs": [],
   "source": []
  }
 ],
 "metadata": {
  "kernelspec": {
   "display_name": ".venv",
   "language": "python",
   "name": "python3"
  },
  "language_info": {
   "codemirror_mode": {
    "name": "ipython",
    "version": 3
   },
   "file_extension": ".py",
   "mimetype": "text/x-python",
   "name": "python",
   "nbconvert_exporter": "python",
   "pygments_lexer": "ipython3",
   "version": "3.12.1"
  }
 },
 "nbformat": 4,
 "nbformat_minor": 2
}
