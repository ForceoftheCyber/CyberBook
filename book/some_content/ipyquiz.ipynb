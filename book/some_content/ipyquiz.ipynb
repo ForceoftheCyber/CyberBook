{
 "cells": [
  {
   "cell_type": "markdown",
   "metadata": {},
   "source": [
    "# Test quiz"
   ]
  },
  {
   "cell_type": "code",
   "execution_count": 22,
   "metadata": {
    "tags": [
     "thebe-remove-input-init"
    ]
   },
   "outputs": [
    {
     "data": {
      "application/vnd.jupyter.widget-view+json": {
       "model_id": "c78e932e205544a194cf67b9e4331ed4",
       "version_major": 2,
       "version_minor": 0
      },
      "text/plain": [
       "HTML(value='<h2>What is the best topping?</h2>')"
      ]
     },
     "metadata": {},
     "output_type": "display_data"
    },
    {
     "data": {
      "application/vnd.jupyter.widget-view+json": {
       "model_id": "cddff84368d24579adc83c81bfef6f61",
       "version_major": 2,
       "version_minor": 0
      },
      "text/plain": [
       "Image(value=b'\\xff\\xd8\\xff\\xe0\\x00\\x10JFIF\\x00\\x01\\x02\\x01\\x00H\\x00H\\x00\\x00\\xff\\xe2\\x02@ICC_PROFILE\\x00\\x01\\x…"
      ]
     },
     "metadata": {},
     "output_type": "display_data"
    },
    {
     "data": {
      "application/vnd.jupyter.widget-view+json": {
       "model_id": "61efc49421fd475fbe544916f5030a21",
       "version_major": 2,
       "version_minor": 0
      },
      "text/plain": [
       "RadioButtons(options=('pepperoni', 'pineapple', 'anchovies'), value=None)"
      ]
     },
     "metadata": {},
     "output_type": "display_data"
    },
    {
     "data": {
      "application/vnd.jupyter.widget-view+json": {
       "model_id": "e68c278e18fd4cf8ab7fe64817afdf62",
       "version_major": 2,
       "version_minor": 0
      },
      "text/plain": [
       "Output()"
      ]
     },
     "metadata": {},
     "output_type": "display_data"
    }
   ],
   "source": [
    "import ipywidgets as widgets\n",
    "from IPython.display import display\n",
    "\n",
    "# title = widgets.Text(value=\"What is the best pizza topping\")\n",
    "title = widgets.HTML(value=\"<h2>What is the best topping?</h2>\")\n",
    "buttons = widgets.RadioButtons(\n",
    "    options=['pepperoni', 'pineapple', 'anchovies'],\n",
    "   value=None, # Defaults to 'pineapple'\n",
    "#    layout={'width': 'max-content'}, # If the items' names are long\n",
    "    disabled=False\n",
    ")\n",
    "\n",
    "from urllib.request import urlopen\n",
    "\n",
    "file = urlopen(\"https://plus.unsplash.com/premium_photo-1664474619075-644dd191935f?fm=jpg&q=60&w=3000&ixlib=rb-4.0.3&ixid=M3wxMjA3fDB8MHxzZWFyY2h8MXx8aW1hZ2V8ZW58MHx8MHx8fDA%3D\")\n",
    "image = file.read()\n",
    "image = widgets.Image(\n",
    "    value=image,\n",
    "    format='jpg',\n",
    "    width=300,\n",
    "    height=400,\n",
    ")\n",
    "\n",
    "def f(value):\n",
    "    if value == None:\n",
    "        print(\"Answer!\")\n",
    "    # print(buttons)\n",
    "    # value = buttons.value\n",
    "    elif value == \"pepperoni\":\n",
    "        print(\"Correct!\")\n",
    "    else:\n",
    "        print(\"Incorrect!\")\n",
    "\n",
    "# output = widgets.Output()\n",
    "\n",
    "display(title)\n",
    "display(image)\n",
    "display(buttons)\n",
    "display(widgets.interactive_output(f, {\"value\": buttons}))\n",
    "\n",
    "# a = widgets.IntSlider(description='a')\n",
    "# b = widgets.IntSlider(description='b')\n",
    "# c = widgets.IntSlider(description='c')\n",
    "# def f(a, b, c):\n",
    "#     print('{}*{}*{}={}'.format(a, b, c, a*b*c))\n",
    "\n",
    "# out = widgets.interactive_output(f, {'a': a, 'b': b, 'c': c})\n",
    "\n",
    "# widgets.HBox([widgets.VBox([a, b, c]), out])\n"
   ]
  }
 ],
 "metadata": {
  "kernelspec": {
   "display_name": ".venv",
   "language": "python",
   "name": "python3"
  },
  "language_info": {
   "codemirror_mode": {
    "name": "ipython",
    "version": 3
   },
   "file_extension": ".py",
   "mimetype": "text/x-python",
   "name": "python",
   "nbconvert_exporter": "python",
   "pygments_lexer": "ipython3",
   "version": "3.12.1"
  }
 },
 "nbformat": 4,
 "nbformat_minor": 2
}
