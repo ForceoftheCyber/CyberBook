{
 "cells": [
  {
   "cell_type": "code",
   "execution_count": 83,
   "metadata": {
    "tags": [
     "thebe-remove-input-init"
    ]
   },
   "outputs": [],
   "source": [
    "#####\n",
    "# Initial cell\n",
    "#####\n",
    "import ipywidgets as widgets\n",
    "from IPython.display import display\n",
    "\n",
    "\n",
    "def multiple_choice(question: str, options: list, correct_option) -> widgets.Widget:\n",
    "    options_widget = widgets.RadioButtons(\n",
    "        options=options,\n",
    "        value=None,\n",
    "        #    layout={'width': 'max-content'}, # If the items' names are long\n",
    "        disabled=False\n",
    "    )\n",
    "\n",
    "    def eval_func(value):\n",
    "        return value == correct_option\n",
    "\n",
    "    return generic_question(question, options_widget, eval_func)\n",
    "\n",
    "\n",
    "def generic_question(question, input_widget, evaluation_function) -> widgets.Widget:\n",
    "    title_widget = widgets.HTMLMath(value=f\"<h2>{question}</h2>\")\n",
    "    output = widgets.Output()\n",
    "\n",
    "    def _inner_check(button):\n",
    "        with output:\n",
    "            if input_widget.value == None:\n",
    "                output.outputs = [\n",
    "                    {'name': 'stdout', 'text': 'No answer selected!', 'output_type': 'stream'}]\n",
    "            elif evaluation_function(input_widget.value):\n",
    "                output.outputs = [\n",
    "                    {'name': 'stdout', 'text': 'Correct!', 'output_type': 'stream'}]\n",
    "\n",
    "            else:\n",
    "                output.outputs = [\n",
    "                    {'name': 'stdout', 'text': 'Incorrect!', 'output_type': 'stream'}]\n",
    "\n",
    "    button = widgets.Button(description=\"Check answer\")\n",
    "    button.on_click(_inner_check)\n",
    "    layout = widgets.VBox([title_widget, input_widget, button, output])\n",
    "\n",
    "    return layout\n",
    "\n",
    "\n",
    "def numeric_input(question: str, correct_answer: float) -> widgets.Widget:\n",
    "\n",
    "    input_widget = widgets.FloatText(\n",
    "        value=None,\n",
    "    )\n",
    "    def eval_func(value): return value == correct_answer\n",
    "    return generic_question(question, input_widget, eval_func)\n",
    "\n",
    "\n",
    "def code_question(question: str, expected_outputs) -> widgets.Widget:\n",
    "    \"\"\"\n",
    "    expected_output - a list of pairs in the format:\n",
    "    - ((inputs), (expected_output))\n",
    "    - Example: [\n",
    "        ((2, 4), 8)\n",
    "    ]\n",
    "    \"\"\"\n",
    "\n",
    "    input_widget = widgets.Text(\n",
    "        description=\"What is the name of your function?\", placeholder=\"myFunction\")\n",
    "\n",
    "    def eval_func(function_name):\n",
    "        if function_name not in globals():\n",
    "            # Error handling\n",
    "            return False\n",
    "\n",
    "        function = globals()[function_name]\n",
    "        return all([function(*test_input) == test_output\n",
    "                    for test_input, test_output in expected_outputs])\n",
    "\n",
    "    return generic_question(question, input_widget, eval_func)\n",
    "\n",
    "\n",
    "def display_json() -> widgets.Widget:\n",
    "    # Delegating\n",
    "\n",
    "    pass"
   ]
  },
  {
   "cell_type": "markdown",
   "metadata": {},
   "source": [
    "# Test quiz"
   ]
  },
  {
   "cell_type": "code",
   "execution_count": 85,
   "metadata": {},
   "outputs": [],
   "source": [
    "# Define your function for task 1 here:\n",
    "\n",
    "def test(x, y):\n",
    "    return 2+x+y\n",
    "\n",
    "def tet(x, y):\n",
    "    return x+y"
   ]
  },
  {
   "cell_type": "code",
   "execution_count": 84,
   "metadata": {
    "tags": [
     "thebe-remove-input-init"
    ]
   },
   "outputs": [
    {
     "data": {
      "application/vnd.jupyter.widget-view+json": {
       "model_id": "da119f3a85384007adb0a4287eac237e",
       "version_major": 2,
       "version_minor": 0
      },
      "text/plain": [
       "VBox(children=(HTMLMath(value='<h2>Hva heter du?</h2>'), RadioButtons(options=('Jakob', 'Jørgen', 'Ravi'), val…"
      ]
     },
     "metadata": {},
     "output_type": "display_data"
    },
    {
     "data": {
      "application/vnd.jupyter.widget-view+json": {
       "model_id": "f088826bf0fe41668c5e80381f834da0",
       "version_major": 2,
       "version_minor": 0
      },
      "text/plain": [
       "VBox(children=(HTMLMath(value='<h2>Hvor mange timer har du jobbet denne uken?</h2>'), FloatText(value=0.0), Bu…"
      ]
     },
     "metadata": {},
     "output_type": "display_data"
    },
    {
     "data": {
      "application/vnd.jupyter.widget-view+json": {
       "model_id": "a2f804fdb10840dcb8a202df96b62c8d",
       "version_major": 2,
       "version_minor": 0
      },
      "text/plain": [
       "VBox(children=(HTMLMath(value='<h2>Lag en funksjon som returnerer summen av to tall</h2>'), Text(value='', des…"
      ]
     },
     "metadata": {},
     "output_type": "display_data"
    }
   ],
   "source": [
    "display(multiple_choice(\"Hva heter du?\", [\"Jakob\", \"Jørgen\", \"Ravi\"], \"Jakob\"))\n",
    "\n",
    "display(numeric_input(\"Hvor mange timer har du jobbet denne uken?\", 24.0))\n",
    "\n",
    "display(code_question(\"Lag en funksjon som returnerer summen av to tall\", [((2, 2), 4)]))"
   ]
  },
  {
   "cell_type": "code",
   "execution_count": 32,
   "metadata": {
    "tags": [
     "thebe-remove-input-init"
    ]
   },
   "outputs": [
    {
     "data": {
      "application/vnd.jupyter.widget-view+json": {
       "model_id": "c046c368b5ce46529f44baf14d6dc1b4",
       "version_major": 2,
       "version_minor": 0
      },
      "text/plain": [
       "HTML(value='<h2>What is the best topping?</h2>')"
      ]
     },
     "metadata": {},
     "output_type": "display_data"
    },
    {
     "data": {
      "application/vnd.jupyter.widget-view+json": {
       "model_id": "12372ef12b73492ea55e1396dff9f9b0",
       "version_major": 2,
       "version_minor": 0
      },
      "text/plain": [
       "Image(value=b'\\xff\\xd8\\xff\\xe0\\x00\\x10JFIF\\x00\\x01\\x02\\x01\\x00H\\x00H\\x00\\x00\\xff\\xe2\\x02@ICC_PROFILE\\x00\\x01\\x…"
      ]
     },
     "metadata": {},
     "output_type": "display_data"
    },
    {
     "data": {
      "application/vnd.jupyter.widget-view+json": {
       "model_id": "68cbf653029346ab94fdd1f43176125c",
       "version_major": 2,
       "version_minor": 0
      },
      "text/plain": [
       "RadioButtons(options=('pepperoni', 'pineapple', 'anchovies'), value=None)"
      ]
     },
     "metadata": {},
     "output_type": "display_data"
    },
    {
     "data": {
      "application/vnd.jupyter.widget-view+json": {
       "model_id": "466185c0cfe7498f84bb556c9b3a9a67",
       "version_major": 2,
       "version_minor": 0
      },
      "text/plain": [
       "Output()"
      ]
     },
     "metadata": {},
     "output_type": "display_data"
    },
    {
     "data": {
      "application/vnd.jupyter.widget-view+json": {
       "model_id": "67155e99edb54384b2cc850b31f79e96",
       "version_major": 2,
       "version_minor": 0
      },
      "text/plain": [
       "Button(description='Check answer', style=ButtonStyle())"
      ]
     },
     "metadata": {},
     "output_type": "display_data"
    },
    {
     "data": {
      "application/vnd.jupyter.widget-view+json": {
       "model_id": "165f25dd6fa24ab3ac2478cddfa274eb",
       "version_major": 2,
       "version_minor": 0
      },
      "text/plain": [
       "Output()"
      ]
     },
     "metadata": {},
     "output_type": "display_data"
    }
   ],
   "source": [
    "# title = widgets.Text(value=\"What is the best pizza topping\")\n",
    "title = widgets.HTML(value=\"<h2>What is the best topping?</h2>\")\n",
    "buttons = widgets.RadioButtons(\n",
    "    options=['pepperoni', 'pineapple', 'anchovies'],\n",
    "   value=None, # Defaults to 'pineapple'\n",
    "#    layout={'width': 'max-content'}, # If the items' names are long\n",
    "    disabled=False\n",
    ")\n",
    "\n",
    "from urllib.request import urlopen\n",
    "\n",
    "# file = urlopen(\"https://plus.unsplash.com/premium_photo-1664474619075-644dd191935f?fm=jpg&q=60&w=3000&ixlib=rb-4.0.3&ixid=M3wxMjA3fDB8MHxzZWFyY2h8MXx8aW1hZ2V8ZW58MHx8MHx8fDA%3D\")\n",
    "file = open(\"../figures/image.jpg\", \"rb\")\n",
    "image = file.read()\n",
    "image = widgets.Image(\n",
    "    value=image,\n",
    "    format='jpg',\n",
    "    width=300,\n",
    "    height=400,\n",
    ")\n",
    "\n",
    "def f(value):\n",
    "    if value == None:\n",
    "        print(\"Answer!\")\n",
    "    # print(buttons)\n",
    "    # value = buttons.value\n",
    "    elif value == \"pepperoni\":\n",
    "        print(\"Correct!\")\n",
    "    else:\n",
    "        print(\"Incorrect!\")\n",
    "\n",
    "display(title)\n",
    "display(image)\n",
    "display(buttons)\n",
    "display(widgets.interactive_output(f, {\"value\": buttons}))\n",
    "\n",
    "output = widgets.Output()\n",
    "button = widgets.Button(description=\"Check answer\")\n",
    "def _inner_check(button):\n",
    "    with output:\n",
    "        if \"test\" not in globals():\n",
    "            output.outputs = [{'name': 'stdout', 'text': 'Please define the function in the cell above!', 'output_type': 'stream'}]\n",
    "        elif test(2) == 4:\n",
    "            output.outputs = [{'name': 'stdout', 'text': 'Correct!', 'output_type': 'stream'}]\n",
    "        else:\n",
    "            output.outputs = [{'name': 'stdout', 'text': 'Incorrect!', 'output_type': 'stream'}]\n",
    "button.on_click(_inner_check)\n",
    "display(button, output)\n"
   ]
  }
 ],
 "metadata": {
  "kernelspec": {
   "display_name": ".venv",
   "language": "python",
   "name": "python3"
  },
  "language_info": {
   "codemirror_mode": {
    "name": "ipython",
    "version": 3
   },
   "file_extension": ".py",
   "mimetype": "text/x-python",
   "name": "python",
   "nbconvert_exporter": "python",
   "pygments_lexer": "ipython3",
   "version": "3.12.1"
  }
 },
 "nbformat": 4,
 "nbformat_minor": 2
}
