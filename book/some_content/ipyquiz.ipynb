{
 "cells": [
  {
   "cell_type": "code",
   "execution_count": null,
   "metadata": {
    "tags": [
     "thebe-remove-input-init"
    ]
   },
   "outputs": [],
   "source": [
    "#####\n",
    "# Initial cell\n",
    "#####\n",
    "# import ipywidgets as widgets\n",
    "# from IPython.display import display\n",
    "# from collections.abc import Callable\n",
    "# from typing import Any\n",
    "\n",
    "\n",
    "# def multiple_choice(question: str, \n",
    "#                     options: list[Any], \n",
    "#                     correct_option: Any, \n",
    "#                     description: str = \"\") -> widgets.Widget:\n",
    "#     \"\"\"\n",
    "#     Multiple-choice-single-answer type question.\n",
    "\n",
    "#     Delegates to generic_question.\n",
    "#     \"\"\"\n",
    "#     options_widget = widgets.ToggleButtons(\n",
    "#         options=options,\n",
    "#         value=None,\n",
    "#         disabled=False\n",
    "#     )\n",
    "\n",
    "#     def eval_func(widget):\n",
    "#         if widget.value is None:\n",
    "#             return None\n",
    "#         return widget.value == correct_option\n",
    "\n",
    "#     return generic_question(question=question,\n",
    "#                             input_widget=options_widget,\n",
    "#                             evaluation_function=eval_func,\n",
    "#                             description=description)\n",
    "\n",
    "\n",
    "# def multiple_answers(question: str, \n",
    "#                                  options: list[Any], \n",
    "#                                  correct_answers: list[Any]) -> widgets.Widget:\n",
    "#     \"\"\"\n",
    "#     Multiple-choice-multiple-answers type question.\n",
    "\n",
    "#     Delegates to generic_question.\n",
    "\n",
    "#     \"\"\"\n",
    "#     buttons = [widgets.ToggleButton(\n",
    "#         value=False, description=option) for option in options]\n",
    "\n",
    "#     def feedback(evaluation_result):\n",
    "#         if evaluation_result == None:\n",
    "#             return \"Please pick an answer\"\n",
    "#         elif evaluation_result == 0:\n",
    "#             return \"Correct answer\"\n",
    "#         else:\n",
    "#             return f\"Correct answers: {evaluation_result}/{len(correct_answers)}\"\n",
    "\n",
    "#     def eval_func(widget: widgets.HBox):\n",
    "#         answers = set(\n",
    "#             button.description for button in widget.children if button.value)\n",
    "#         if len(answers) == 0:\n",
    "#             return None\n",
    "#         # Evaluates number of correct choices minus number of incorrect choices.\n",
    "#         return len(answers.intersection(correct_answers)) - len(answers.difference(correct_answers))\n",
    "\n",
    "#     return generic_question(question=question,\n",
    "#                             input_widget=widgets.HBox(buttons),\n",
    "#                             evaluation_function=eval_func,\n",
    "#                             feedback=feedback)\n",
    "\n",
    "\n",
    "# def standard_feedback(evaluation_result: Any):\n",
    "#     if evaluation_result == None:\n",
    "#         return \"No answer selected\"\n",
    "#     elif evaluation_result == 0:\n",
    "#         return \"Wrong answer!\"\n",
    "#     else:\n",
    "#         return \"Correct!\"\n",
    "\n",
    "\n",
    "# def generic_question(question: str,\n",
    "#                      input_widget: widgets.Widget,\n",
    "#                      evaluation_function: Callable[[widgets.Widget], Any],\n",
    "#                      description: str = \"\",\n",
    "#                      feedback: Callable[[Any], str] = standard_feedback) -> widgets.Widget:\n",
    "#     \"\"\"\n",
    "#     Abstract question function used by the other question types to display questions.\n",
    "\n",
    "#     Delegates to generic_question.\n",
    "\n",
    "#     params:\n",
    "#     - question: Title of question\n",
    "#     - input_widget: Widget used for getting user input\n",
    "#     - evaluation_function: a function returning an evaluation of the answer provided based on the input widget\n",
    "#     - description: Additional text to be provided with the question\n",
    "#     - feedback: A function giving textual feedback based on the result of the evaluation_function\n",
    "\n",
    "#     \"\"\"\n",
    "\n",
    "#     title_widget = widgets.HTMLMath(value=f\"<h3>{question}</h3>\")\n",
    "#     description_widget = widgets.HTMLMath(value=f\"<p>{description}</p>\")\n",
    "\n",
    "#     output = widgets.Output()\n",
    "\n",
    "#     def _inner_check(button):\n",
    "#         with output:\n",
    "#             output.outputs = [\n",
    "#                 {'name': 'stdout', 'text': feedback(evaluation_function(input_widget)), 'output_type': 'stream'}]\n",
    "\n",
    "#     button = widgets.Button(description=\"Check answer\", icon=\"check\",\n",
    "#                             style=dict(\n",
    "#                                 button_color=\"lightgreen\"\n",
    "#                             ))\n",
    "#     button.on_click(_inner_check)\n",
    "\n",
    "#     layout = widgets.VBox([title_widget,\n",
    "#                            description_widget,\n",
    "#                            widgets.HBox([input_widget],\n",
    "#                                         layout=widgets.Layout(padding=\"10px 20px 10px 20px\", border=\"solid\")),\n",
    "#                            widgets.VBox([button, output],\n",
    "#                                         layout=widgets.Layout(margin=\"10px 10px 0px 0px\"))])\n",
    "\n",
    "#     return layout\n",
    "\n",
    "\n",
    "# def numeric_input(question: str, correct_answer: float) -> widgets.Widget:\n",
    "#     \"\"\"\n",
    "#     Question with box for numeric input.\n",
    "\n",
    "#     Delegates to generic_question.\n",
    "#     \"\"\"\n",
    "\n",
    "#     input_widget = widgets.FloatText(\n",
    "#         value=None,\n",
    "#     )\n",
    "\n",
    "#     def eval_func(widget):\n",
    "#         if widget.value is None:\n",
    "#             return None\n",
    "#         return widget.value == correct_answer\n",
    "\n",
    "#     return generic_question(question=question,\n",
    "#                             input_widget=input_widget,\n",
    "#                             evaluation_function=eval_func)\n",
    "\n",
    "\n",
    "# def code_question(question: str, expected_outputs: list[tuple[tuple, Any]]) -> widgets.Widget:\n",
    "#     \"\"\"\n",
    "#     Code question that uses a textbox for the user to write.\n",
    "#     The provided function is tested against the expected_outputs.\n",
    "\n",
    "#     Delegates to generic_question.\n",
    "\n",
    "#     params:\n",
    "#     - expected_output - a list of pairs in the format:\n",
    "#         - ((inputs), expected_output)\n",
    "#         - Example: [\n",
    "#             ((2, 4), 8)\n",
    "#         ]\n",
    "#     \"\"\"\n",
    "\n",
    "#     input_widget = widgets.Text(\n",
    "#         description=\"What is the name of your function?\", placeholder=\"myFunction\",\n",
    "#         style=dict(description_width=\"initial\"))\n",
    "\n",
    "#     def eval_func(widget):\n",
    "#         function_name = widget.value\n",
    "#         if function_name not in globals():\n",
    "#             # Error handling\n",
    "#             return None\n",
    "\n",
    "#         function = globals()[function_name]\n",
    "#         return all([function(*test_input) == test_output\n",
    "#                     for test_input, test_output in expected_outputs])\n",
    "\n",
    "#     def feedback(evaluation_result):\n",
    "#         if evaluation_result is None:\n",
    "#             return \"No function defined with that name. Remember to run the cell to define the function.\"\n",
    "#         if evaluation_result:\n",
    "#             return \"Correct!\"\n",
    "#         else:\n",
    "#             return \"Incorrect answer!\"\n",
    "\n",
    "#     return generic_question(question=question, input_widget=input_widget, evaluation_function=eval_func, feedback=feedback)\n",
    "\n",
    "# from typing import TypedDict, Literal\n",
    "\n",
    "# class Question(TypedDict):\n",
    "#     type: Literal[\"MULTIPLE_CHOICE\", \"NUMERIC\", \"TEXT\"]\n",
    "#     body: str\n",
    "#     answers: list[str]  # Options\n",
    "#     answer: list[str] | str  # Correct answer\n",
    "#     notes: list[str]\n",
    "\n",
    "\n",
    "# def make_question(question: Question) -> widgets.Widget:\n",
    "#     \"\"\"\n",
    "#     Delegates to the other questions functions based on question type and returns a widget.\n",
    "#     \"\"\"\n",
    "#     match question[\"type\"]:\n",
    "#         case \"MULTIPLE_CHOICE\" if len(question[\"answer\"]) > 0:\n",
    "#             # Multiple choice, single answer\n",
    "#             # TODO: Add validation of format?\n",
    "\n",
    "#             return multiple_choice(question=question[\"body\"], options=question[\"answers\"], correct_option=question[\"answer\"][0])\n",
    "#         case \"MULTIPLE_CHOICE\":\n",
    "#             # Multiple choice, multiple answer\n",
    "#             if isinstance(question[\"answer\"], str):\n",
    "#                 raise TypeError(\"question['answer'] should be a list when question type is multiple choice\")\n",
    "#             return multiple_answers(question=question[\"body\"], options=question[\"answers\"], correct_answers=question[\"answer\"])\n",
    "#         case \"NUMERIC\":\n",
    "#             if isinstance(question[\"answer\"], list):\n",
    "#                 raise TypeError(\"question['answer'] should not be a list when question type is multiple choice\")\n",
    "#             return numeric_input(question=question[\"body\"], correct_answer=float(question[\"answer\"]))\n",
    "#         case \"TEXT\":\n",
    "#             # return generic_question(question=question[\"body\"], )\n",
    "#             # TODO\n",
    "#             pass\n",
    "#         case _:\n",
    "#             raise NameError(f\"{question['type']} is not a valid question type\")\n",
    "\n",
    "# def display_questions(questions: list[Question]):\n",
    "#     \"\"\"\n",
    "    \n",
    "#     \"\"\"\n",
    "#     for question in questions:\n",
    "#         display(make_question(question))\n",
    "\n",
    "\n",
    "# import json\n",
    "\n",
    "# def display_json(questions: str) -> widgets.Widget:\n",
    "#     \"\"\"\n",
    "#     Helper function for displaying based on the json-string from the FaceIT-format. \n",
    "#     \"\"\"\n",
    "\n",
    "#     questions_dict = json.loads(questions)\n",
    "    \n",
    "#     display_questions(questions_dict[\"questions\"])\n",
    "import micropip\n",
    "await micropip.install(\"https://github.com/ForceoftheCyber/ipyquiz/releases/download/v0.1.2/ipyquiz-0.1.2-py2.py3-none-any.whl\")\n",
    "\n",
    "import ipywidgets as widgets\n",
    "from ipyquiz.questions import display_json, display_questions, code_question, Question"
   ]
  },
  {
   "cell_type": "markdown",
   "metadata": {},
   "source": [
    "# Test quiz"
   ]
  },
  {
   "cell_type": "code",
   "execution_count": null,
   "metadata": {
    "tags": [
     "thebe-remove-input-init"
    ]
   },
   "outputs": [
    {
     "data": {
      "application/vnd.jupyter.widget-view+json": {
       "model_id": "b41701dc1ce3412f893dcf6d192b32dc",
       "version_major": 2,
       "version_minor": 0
      },
      "text/plain": [
       "VBox(children=(HTMLMath(value='<h3>What is the derivative of \\\\( \\\\sin(x) \\\\)?</h3>'), HTMLMath(value='<p></p>…"
      ]
     },
     "metadata": {},
     "output_type": "display_data"
    },
    {
     "data": {
      "application/vnd.jupyter.widget-view+json": {
       "model_id": "3f8f4bca9fea45f3aff24941c93debec",
       "version_major": 2,
       "version_minor": 0
      },
      "text/plain": [
       "VBox(children=(HTMLMath(value=\"<h3>What's the derivative of z (z'), with respect to x, of z = 4y+x?</h3>\"), HT…"
      ]
     },
     "metadata": {},
     "output_type": "display_data"
    }
   ],
   "source": [
    "test_json = r\"\"\"{\n",
    "  \"questions\": [\n",
    "    {\n",
    "      \"type\": \"MULTIPLE_CHOICE\",\n",
    "      \"body\": \"What is the derivative of \\\\( \\\\sin(x) \\\\)?\",\n",
    "      \"answers\": [\n",
    "        \"\\\\( -\\\\cos(x) \\\\).\",\n",
    "        \"\\\\( \\\\tan(x) \\\\).\",\n",
    "        \"\\\\( \\\\cos(x) \\\\).\"\n",
    "      ],\n",
    "      \"answer\": [\"\\\\( \\\\cos(x) \\\\).\"],\n",
    "      \"notes\": [\"The derivative of \\\\( \\\\sin(x) \\\\) is \\\\( \\\\cos(x) \\\\).\"]\n",
    "    },\n",
    "    {\n",
    "      \"type\": \"NUMERIC\",\n",
    "      \"body\": \"What's the derivative of z (z'), with respect to x, of z = 4y+x?\",\n",
    "      \"answer\": \"1\",\n",
    "      \"notes\": []\n",
    "    }\n",
    "  ],\n",
    "  \"status\": \"success\"\n",
    "}\"\"\"\n",
    "\n",
    "display_json(test_json)"
   ]
  },
  {
   "cell_type": "code",
   "execution_count": null,
   "metadata": {
    "tags": [
     "thebe-remove-input-init"
    ]
   },
   "outputs": [
    {
     "data": {
      "application/vnd.jupyter.widget-view+json": {
       "model_id": "a4587545e157417dac605a8807ee5858",
       "version_major": 2,
       "version_minor": 0
      },
      "text/plain": [
       "HTML(value='<h2>Test your knowledge</h2>')"
      ]
     },
     "metadata": {},
     "output_type": "display_data"
    },
    {
     "data": {
      "application/vnd.jupyter.widget-view+json": {
       "model_id": "9380c4f13594444a85d48a7e3818836b",
       "version_major": 2,
       "version_minor": 0
      },
      "text/plain": [
       "VBox(children=(HTMLMath(value='<h3>What is your name?</h3>'), HTMLMath(value='<p></p>'), HBox(children=(Toggle…"
      ]
     },
     "metadata": {},
     "output_type": "display_data"
    },
    {
     "data": {
      "application/vnd.jupyter.widget-view+json": {
       "model_id": "eb93d184fece4a35be401343d4138eba",
       "version_major": 2,
       "version_minor": 0
      },
      "text/plain": [
       "VBox(children=(HTMLMath(value='<h3>What is 2 + 5?</h3>'), HTMLMath(value='<p></p>'), HBox(children=(FloatText(…"
      ]
     },
     "metadata": {},
     "output_type": "display_data"
    },
    {
     "data": {
      "application/vnd.jupyter.widget-view+json": {
       "model_id": "215dd75a17444a598ae16ddef951359f",
       "version_major": 2,
       "version_minor": 0
      },
      "text/plain": [
       "VBox(children=(HTMLMath(value='<h3>What is 2/4 + 1/4?</h3>'), HTMLMath(value='<p></p>'), HBox(children=(FloatT…"
      ]
     },
     "metadata": {},
     "output_type": "display_data"
    },
    {
     "data": {
      "application/vnd.jupyter.widget-view+json": {
       "model_id": "577591badd62459883b3306e85280417",
       "version_major": 2,
       "version_minor": 0
      },
      "text/plain": [
       "VBox(children=(HTMLMath(value='<h3>Which of these are cheeses?</h3>'), HTMLMath(value='<p></p>'), HBox(childre…"
      ]
     },
     "metadata": {},
     "output_type": "display_data"
    }
   ],
   "source": [
    "display(widgets.HTML(\"<h2>Test your knowledge</h2>\"))\n",
    "\n",
    "questions: list[Question] = [\n",
    "    {\n",
    "        \"type\": \"MULTIPLE_CHOICE\",\n",
    "        \"body\": \"What is your name?\",\n",
    "        \"answers\": [\"Jakob\", \"Jørgen\", \"Ravi\"],\n",
    "        \"answer\": [\"Jakob\"]\n",
    "    },\n",
    "    {\n",
    "        \"type\": \"NUMERIC\",\n",
    "        \"body\": \"What is 2 + 5?\",\n",
    "        \"answer\": \"7\"\n",
    "    },\n",
    "    {\n",
    "        \"type\": \"NUMERIC\",\n",
    "        \"body\": \"What is 2/4 + 1/4?\",\n",
    "        \"answer\": \"0.75\"\n",
    "    },\n",
    "    {\n",
    "        \"type\": \"MULTIPLE_CHOICE\",\n",
    "        \"body\": \"Which of these are cheeses?\",\n",
    "        \"answers\": [\"Gouda\", \"Emmentaler\", \"Brie\", \"Cat\", \"Dog\"],\n",
    "        \"answer\": [\"Gouda\", \"Emmentaler\", \"Brie\"]\n",
    "    }\n",
    "]\n",
    "\n",
    "display_questions(questions)"
   ]
  },
  {
   "cell_type": "code",
   "execution_count": null,
   "metadata": {},
   "outputs": [],
   "source": [
    "# Define your function for coding task here:\n",
    "\n",
    "def test(x, y):\n",
    "    return 2+x+y\n",
    "\n",
    "def tet(x, y):\n",
    "    return x+y"
   ]
  },
  {
   "cell_type": "code",
   "execution_count": 76,
   "metadata": {
    "tags": [
     "thebe-remove-input-init"
    ]
   },
   "outputs": [
    {
     "data": {
      "application/vnd.jupyter.widget-view+json": {
       "model_id": "7109897d52df4c01b3db6e5f0e332e5e",
       "version_major": 2,
       "version_minor": 0
      },
      "text/plain": [
       "VBox(children=(HTMLMath(value='<h3>Make a function that returns the sum of two numbers</h3>'), HTMLMath(value=…"
      ]
     },
     "metadata": {},
     "output_type": "display_data"
    }
   ],
   "source": [
    "\n",
    "display(code_question(\n",
    "    \"Make a function that returns the sum of two numbers\", [((2, 2), 4)]))"
   ]
  },
  {
   "cell_type": "code",
   "execution_count": 58,
   "metadata": {
    "tags": [
     "thebe-remove-input-init"
    ]
   },
   "outputs": [],
   "source": [
    "# # title = widgets.Text(value=\"What is the best pizza topping\")\n",
    "# title = widgets.HTML(value=\"<h2>What is the best topping?</h2>\")\n",
    "# buttons = widgets.RadioButtons(\n",
    "#     options=['pepperoni', 'pineapple', 'anchovies'],\n",
    "#    value=None, # Defaults to 'pineapple'\n",
    "# #    layout={'width': 'max-content'}, # If the items' names are long\n",
    "#     disabled=False\n",
    "# )\n",
    "\n",
    "# from urllib.request import urlopen\n",
    "\n",
    "# # file = urlopen(\"https://plus.unsplash.com/premium_photo-1664474619075-644dd191935f?fm=jpg&q=60&w=3000&ixlib=rb-4.0.3&ixid=M3wxMjA3fDB8MHxzZWFyY2h8MXx8aW1hZ2V8ZW58MHx8MHx8fDA%3D\")\n",
    "# file = open(\"../figures/image.jpg\", \"rb\")\n",
    "# image = file.read()\n",
    "# image = widgets.Image(\n",
    "#     value=image,\n",
    "#     format='jpg',\n",
    "#     width=300,\n",
    "#     height=400,\n",
    "# )\n",
    "\n",
    "# def f(value):\n",
    "#     if value == None:\n",
    "#         print(\"Answer!\")\n",
    "#     # print(buttons)\n",
    "#     # value = buttons.value\n",
    "#     elif value == \"pepperoni\":\n",
    "#         print(\"Correct!\")\n",
    "#     else:\n",
    "#         print(\"Incorrect!\")\n",
    "\n",
    "# display(title)\n",
    "# display(image)\n",
    "# display(buttons)\n",
    "# display(widgets.interactive_output(f, {\"value\": buttons}))\n",
    "\n",
    "# output = widgets.Output()\n",
    "# button = widgets.Button(description=\"Check answer\")\n",
    "# def _inner_check(button):\n",
    "#     with output:\n",
    "#         if \"test\" not in globals():\n",
    "#             output.outputs = [{'name': 'stdout', 'text': 'Please define the function in the cell above!', 'output_type': 'stream'}]\n",
    "#         elif test(2) == 4:\n",
    "#             output.outputs = [{'name': 'stdout', 'text': 'Correct!', 'output_type': 'stream'}]\n",
    "#         else:\n",
    "#             output.outputs = [{'name': 'stdout', 'text': 'Incorrect!', 'output_type': 'stream'}]\n",
    "# button.on_click(_inner_check)\n",
    "# display(button, output)\n"
   ]
  }
 ],
 "metadata": {
  "kernelspec": {
   "display_name": "Python 3",
   "language": "python",
   "name": "python3"
  },
  "language_info": {
   "codemirror_mode": {
    "name": "ipython",
    "version": 3
   },
   "file_extension": ".py",
   "mimetype": "text/x-python",
   "name": "python",
   "nbconvert_exporter": "python",
   "pygments_lexer": "ipython3",
   "version": "3.12.1"
  }
 },
 "nbformat": 4,
 "nbformat_minor": 2
}
