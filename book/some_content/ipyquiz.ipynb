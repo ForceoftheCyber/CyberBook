{
 "cells": [
  {
   "cell_type": "code",
   "execution_count": null,
   "metadata": {
    "tags": [
     "thebe-remove-input-init"
    ]
   },
   "outputs": [
    {
     "name": "stdout",
     "output_type": "stream",
     "text": [
      "Note: you may need to restart the kernel to use updated packages.Collecting ipyquizjb==0.2.9\n",
      "  Using cached https://test-files.pythonhosted.org/packages/43/40/324224c95fb3953c1634debaf215d50df579475855323031ae469dfc3540/ipyquizjb-0.2.9-py3-none-any.whl (5.6 kB)\n",
      "Requirement already satisfied: ipython in c:\\users\\jørgen galdal\\documents\\lokalskoleprogrammering\\cyberbook\\.venv\\lib\\site-packages (from ipyquizjb==0.2.9) (8.32.0)\n",
      "Requirement already satisfied: ipywidgets in c:\\users\\jørgen galdal\\documents\\lokalskoleprogrammering\\cyberbook\\.venv\\lib\\site-packages (from ipyquizjb==0.2.9) (8.1.5)\n",
      "Requirement already satisfied: requests in c:\\users\\jørgen galdal\\documents\\lokalskoleprogrammering\\cyberbook\\.venv\\lib\\site-packages (from ipyquizjb==0.2.9) (2.32.3)\n",
      "Requirement already satisfied: colorama in c:\\users\\jørgen galdal\\documents\\lokalskoleprogrammering\\cyberbook\\.venv\\lib\\site-packages (from ipython->ipyquizjb==0.2.9) (0.4.6)\n",
      "Requirement already satisfied: decorator in c:\\users\\jørgen galdal\\documents\\lokalskoleprogrammering\\cyberbook\\.venv\\lib\\site-packages (from ipython->ipyquizjb==0.2.9) (5.1.1)\n",
      "Requirement already satisfied: jedi>=0.16 in c:\\users\\jørgen galdal\\documents\\lokalskoleprogrammering\\cyberbook\\.venv\\lib\\site-packages (from ipython->ipyquizjb==0.2.9) (0.19.2)\n",
      "Requirement already satisfied: matplotlib-inline in c:\\users\\jørgen galdal\\documents\\lokalskoleprogrammering\\cyberbook\\.venv\\lib\\site-packages (from ipython->ipyquizjb==0.2.9) (0.1.7)\n",
      "Requirement already satisfied: prompt_toolkit<3.1.0,>=3.0.41 in c:\\users\\jørgen galdal\\documents\\lokalskoleprogrammering\\cyberbook\\.venv\\lib\\site-packages (from ipython->ipyquizjb==0.2.9) (3.0.50)\n",
      "Requirement already satisfied: pygments>=2.4.0 in c:\\users\\jørgen galdal\\documents\\lokalskoleprogrammering\\cyberbook\\.venv\\lib\\site-packages (from ipython->ipyquizjb==0.2.9) (2.19.1)\n",
      "Requirement already satisfied: stack_data in c:\\users\\jørgen galdal\\documents\\lokalskoleprogrammering\\cyberbook\\.venv\\lib\\site-packages (from ipython->ipyquizjb==0.2.9) (0.6.3)\n",
      "Requirement already satisfied: traitlets>=5.13.0 in c:\\users\\jørgen galdal\\documents\\lokalskoleprogrammering\\cyberbook\\.venv\\lib\\site-packages (from ipython->ipyquizjb==0.2.9) (5.14.3)\n",
      "Requirement already satisfied: comm>=0.1.3 in c:\\users\\jørgen galdal\\documents\\lokalskoleprogrammering\\cyberbook\\.venv\\lib\\site-packages (from ipywidgets->ipyquizjb==0.2.9) (0.2.2)\n",
      "Requirement already satisfied: widgetsnbextension~=4.0.12 in c:\\users\\jørgen galdal\\documents\\lokalskoleprogrammering\\cyberbook\\.venv\\lib\\site-packages (from ipywidgets->ipyquizjb==0.2.9) (4.0.13)\n",
      "Requirement already satisfied: jupyterlab-widgets~=3.0.12 in c:\\users\\jørgen galdal\\documents\\lokalskoleprogrammering\\cyberbook\\.venv\\lib\\site-packages (from ipywidgets->ipyquizjb==0.2.9) (3.0.13)\n",
      "Requirement already satisfied: charset-normalizer<4,>=2 in c:\\users\\jørgen galdal\\documents\\lokalskoleprogrammering\\cyberbook\\.venv\\lib\\site-packages (from requests->ipyquizjb==0.2.9) (3.4.1)\n",
      "Requirement already satisfied: idna<4,>=2.5 in c:\\users\\jørgen galdal\\documents\\lokalskoleprogrammering\\cyberbook\\.venv\\lib\\site-packages (from requests->ipyquizjb==0.2.9) (3.10)\n",
      "Requirement already satisfied: urllib3<3,>=1.21.1 in c:\\users\\jørgen galdal\\documents\\lokalskoleprogrammering\\cyberbook\\.venv\\lib\\site-packages (from requests->ipyquizjb==0.2.9) (2.3.0)\n",
      "Requirement already satisfied: certifi>=2017.4.17 in c:\\users\\jørgen galdal\\documents\\lokalskoleprogrammering\\cyberbook\\.venv\\lib\\site-packages (from requests->ipyquizjb==0.2.9) (2025.1.31)\n",
      "Requirement already satisfied: parso<0.9.0,>=0.8.4 in c:\\users\\jørgen galdal\\documents\\lokalskoleprogrammering\\cyberbook\\.venv\\lib\\site-packages (from jedi>=0.16->ipython->ipyquizjb==0.2.9) (0.8.4)\n",
      "Requirement already satisfied: wcwidth in c:\\users\\jørgen galdal\\documents\\lokalskoleprogrammering\\cyberbook\\.venv\\lib\\site-packages (from prompt_toolkit<3.1.0,>=3.0.41->ipython->ipyquizjb==0.2.9) (0.2.13)\n",
      "Requirement already satisfied: executing>=1.2.0 in c:\\users\\jørgen galdal\\documents\\lokalskoleprogrammering\\cyberbook\\.venv\\lib\\site-packages (from stack_data->ipython->ipyquizjb==0.2.9) (2.2.0)\n",
      "Requirement already satisfied: asttokens>=2.1.0 in c:\\users\\jørgen galdal\\documents\\lokalskoleprogrammering\\cyberbook\\.venv\\lib\\site-packages (from stack_data->ipython->ipyquizjb==0.2.9) (3.0.0)\n",
      "Requirement already satisfied: pure-eval in c:\\users\\jørgen galdal\\documents\\lokalskoleprogrammering\\cyberbook\\.venv\\lib\\site-packages (from stack_data->ipython->ipyquizjb==0.2.9) (0.2.3)\n",
      "\n"
     ]
    },
    {
     "name": "stderr",
     "output_type": "stream",
     "text": [
      "\n",
      "[notice] A new release of pip is available: 23.2.1 -> 25.0.1\n",
      "[notice] To update, run: python.exe -m pip install --upgrade pip\n"
     ]
    }
   ],
   "source": [
    "%pip install https://test-files.pythonhosted.org/packages/43/40/324224c95fb3953c1634debaf215d50df579475855323031ae469dfc3540/ipyquizjb-0.2.9-py3-none-any.whl\n",
    "\n",
    "import ipywidgets as widgets\n",
    "from ipyquiz.questions import display_json, display_questions, code_question, Question"
   ]
  },
  {
   "cell_type": "markdown",
   "metadata": {},
   "source": [
    "# Test quiz"
   ]
  },
  {
   "cell_type": "code",
   "execution_count": 7,
   "metadata": {
    "tags": [
     "thebe-remove-input-init"
    ]
   },
   "outputs": [
    {
     "data": {
      "application/vnd.jupyter.widget-view+json": {
       "model_id": "877bc4f92ef64644ad2c7ac06d43b2a7",
       "version_major": 2,
       "version_minor": 0
      },
      "text/plain": [
       "VBox(children=(HTMLMath(value='<h3>What is the derivative of \\\\( \\\\sin(x) \\\\)?</h3>'), HTMLMath(value='<p></p>…"
      ]
     },
     "metadata": {},
     "output_type": "display_data"
    },
    {
     "data": {
      "application/vnd.jupyter.widget-view+json": {
       "model_id": "7d48cb6402894349a1a475214d79bca4",
       "version_major": 2,
       "version_minor": 0
      },
      "text/plain": [
       "VBox(children=(HTMLMath(value=\"<h3>What's the derivative of z (z'), with respect to x, of z = 4y+x?</h3>\"), HT…"
      ]
     },
     "metadata": {},
     "output_type": "display_data"
    }
   ],
   "source": [
    "test_json = r\"\"\"{\n",
    "  \"questions\": [\n",
    "    {\n",
    "      \"type\": \"MULTIPLE_CHOICE\",\n",
    "      \"body\": \"What is the derivative of \\\\( \\\\sin(x) \\\\)?\",\n",
    "      \"answers\": [\n",
    "        \"\\\\( -\\\\cos(x) \\\\).\",\n",
    "        \"\\\\( \\\\tan(x) \\\\).\",\n",
    "        \"\\\\( \\\\cos(x) \\\\).\"\n",
    "      ],\n",
    "      \"answer\": [\"\\\\( \\\\cos(x) \\\\).\"],\n",
    "      \"notes\": [\"The derivative of \\\\( \\\\sin(x) \\\\) is \\\\( \\\\cos(x) \\\\).\"]\n",
    "    },\n",
    "    {\n",
    "      \"type\": \"NUMERIC\",\n",
    "      \"body\": \"What's the derivative of z (z'), with respect to x, of z = 4y+x?\",\n",
    "      \"answer\": \"1\",\n",
    "      \"notes\": []\n",
    "    }\n",
    "  ],\n",
    "  \"status\": \"success\"\n",
    "}\"\"\"\n",
    "\n",
    "display_json(test_json)"
   ]
  },
  {
   "cell_type": "code",
   "execution_count": null,
   "metadata": {
    "tags": [
     "thebe-remove-input-init"
    ]
   },
   "outputs": [
    {
     "data": {
      "application/vnd.jupyter.widget-view+json": {
       "model_id": "a4587545e157417dac605a8807ee5858",
       "version_major": 2,
       "version_minor": 0
      },
      "text/plain": [
       "HTML(value='<h2>Test your knowledge</h2>')"
      ]
     },
     "metadata": {},
     "output_type": "display_data"
    },
    {
     "data": {
      "application/vnd.jupyter.widget-view+json": {
       "model_id": "9380c4f13594444a85d48a7e3818836b",
       "version_major": 2,
       "version_minor": 0
      },
      "text/plain": [
       "VBox(children=(HTMLMath(value='<h3>What is your name?</h3>'), HTMLMath(value='<p></p>'), HBox(children=(Toggle…"
      ]
     },
     "metadata": {},
     "output_type": "display_data"
    },
    {
     "data": {
      "application/vnd.jupyter.widget-view+json": {
       "model_id": "eb93d184fece4a35be401343d4138eba",
       "version_major": 2,
       "version_minor": 0
      },
      "text/plain": [
       "VBox(children=(HTMLMath(value='<h3>What is 2 + 5?</h3>'), HTMLMath(value='<p></p>'), HBox(children=(FloatText(…"
      ]
     },
     "metadata": {},
     "output_type": "display_data"
    },
    {
     "data": {
      "application/vnd.jupyter.widget-view+json": {
       "model_id": "215dd75a17444a598ae16ddef951359f",
       "version_major": 2,
       "version_minor": 0
      },
      "text/plain": [
       "VBox(children=(HTMLMath(value='<h3>What is 2/4 + 1/4?</h3>'), HTMLMath(value='<p></p>'), HBox(children=(FloatT…"
      ]
     },
     "metadata": {},
     "output_type": "display_data"
    },
    {
     "data": {
      "application/vnd.jupyter.widget-view+json": {
       "model_id": "577591badd62459883b3306e85280417",
       "version_major": 2,
       "version_minor": 0
      },
      "text/plain": [
       "VBox(children=(HTMLMath(value='<h3>Which of these are cheeses?</h3>'), HTMLMath(value='<p></p>'), HBox(childre…"
      ]
     },
     "metadata": {},
     "output_type": "display_data"
    }
   ],
   "source": [
    "display(widgets.HTML(\"<h2>Test your knowledge</h2>\"))\n",
    "\n",
    "questions: list[Question] = [\n",
    "    {\n",
    "        \"type\": \"MULTIPLE_CHOICE\",\n",
    "        \"body\": \"What is your name?\",\n",
    "        \"answers\": [\"Jakob\", \"Jørgen\", \"Ravi\"],\n",
    "        \"answer\": [\"Jakob\"]\n",
    "    },\n",
    "    {\n",
    "        \"type\": \"NUMERIC\",\n",
    "        \"body\": \"What is 2 + 5?\",\n",
    "        \"answer\": \"7\"\n",
    "    },\n",
    "    {\n",
    "        \"type\": \"NUMERIC\",\n",
    "        \"body\": \"What is 2/4 + 1/4?\",\n",
    "        \"answer\": \"0.75\"\n",
    "    },\n",
    "    {\n",
    "        \"type\": \"MULTIPLE_CHOICE\",\n",
    "        \"body\": \"Which of these are cheeses?\",\n",
    "        \"answers\": [\"Gouda\", \"Emmentaler\", \"Brie\", \"Cat\", \"Dog\"],\n",
    "        \"answer\": [\"Gouda\", \"Emmentaler\", \"Brie\"]\n",
    "    }\n",
    "]\n",
    "\n",
    "display_questions(questions)"
   ]
  },
  {
   "cell_type": "code",
   "execution_count": 5,
   "metadata": {},
   "outputs": [],
   "source": [
    "# Define your function for coding task here:\n",
    "\n",
    "def test(x, y):\n",
    "    return 2+x+y\n",
    "\n",
    "def tet(x, y):\n",
    "    return x+y"
   ]
  },
  {
   "cell_type": "code",
   "execution_count": 4,
   "metadata": {
    "tags": [
     "thebe-remove-input-init"
    ]
   },
   "outputs": [
    {
     "data": {
      "application/vnd.jupyter.widget-view+json": {
       "model_id": "c12cd6bb47e94062abbf7cf089581e7d",
       "version_major": 2,
       "version_minor": 0
      },
      "text/plain": [
       "VBox(children=(HTMLMath(value='<h3>Make a function that returns the sum of two numbers</h3>'), HTMLMath(value=…"
      ]
     },
     "metadata": {},
     "output_type": "display_data"
    }
   ],
   "source": [
    "from ipyquizjb.questions import code_question\n",
    "\n",
    "display(code_question(\n",
    "    \"Make a function that returns the sum of two numbers\", [((2, 2), 4)]))"
   ]
  }
 ],
 "metadata": {
  "kernelspec": {
   "display_name": ".venv",
   "language": "python",
   "name": "python3"
  },
  "language_info": {
   "codemirror_mode": {
    "name": "ipython",
    "version": 3
   },
   "file_extension": ".py",
   "mimetype": "text/x-python",
   "name": "python",
   "nbconvert_exporter": "python",
   "pygments_lexer": "ipython3",
   "version": "3.12.1"
  }
 },
 "nbformat": 4,
 "nbformat_minor": 2
}
