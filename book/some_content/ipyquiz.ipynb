{
 "cells": [
  {
   "cell_type": "code",
   "execution_count": null,
   "metadata": {
    "tags": [
     "thebe-remove-input-init",
     "auto-execute-page"
    ]
   },
   "outputs": [],
   "source": [
    "#####\n",
    "# Initial cell for thebe. Not to be run \n",
    "#####\n",
    "\n",
    "# import micropip\n",
    "# await micropip.install(\"https://test-files.pythonhosted.org/packages/43/40/324224c95fb3953c1634debaf215d50df579475855323031ae469dfc3540/ipyquizjb-0.2.9-py3-none-any.whl\")\n",
    "%pip install https://test-files.pythonhosted.org/packages/43/40/324224c95fb3953c1634debaf215d50df579475855323031ae469dfc3540/ipyquizjb-0.2.9-py3-none-any.whl"
   ]
  },
  {
   "cell_type": "markdown",
   "metadata": {},
   "source": [
    "# Test quiz"
   ]
  },
  {
   "cell_type": "code",
   "execution_count": null,
   "metadata": {
    "tags": [
     "thebe-remove-input-init"
    ]
   },
   "outputs": [],
   "source": [
    "import ipywidgets as widgets\n",
    "from IPython.display import display\n",
    "\n",
    "display(widgets.HTMLMath(\n",
    "    value=r\"Some math and <i>HTML</i>: \\(x^2\\) and $$\\frac{x+1}{x-1}$$\",\n",
    "    placeholder='Some HTML',\n",
    "    description='Some HTML',\n",
    "))"
   ]
  },
  {
   "cell_type": "code",
   "execution_count": null,
   "metadata": {
    "tags": [
     "thebe-remove-input-init"
    ]
   },
   "outputs": [],
   "source": [
    "from ipyquizjb.faceit import display_simple_search\n",
    "\n",
    "# Test with faceit search (works locally)\n",
    "# display_simple_search(\"laplace\")"
   ]
  },
  {
   "cell_type": "code",
   "execution_count": null,
   "metadata": {
    "tags": [
     "thebe-remove-input-init"
    ]
   },
   "outputs": [],
   "source": [
    "test_json = r\"\"\"{\n",
    "  \"questions\": [\n",
    "    {\n",
    "      \"type\": \"MULTIPLE_CHOICE\",\n",
    "      \"body\": \"What is the derivative of \\\\( \\\\sin(x) \\\\)?\",\n",
    "      \"answers\": [\n",
    "        \"\\\\( -\\\\cos(x) \\\\).\",\n",
    "        \"\\\\( \\\\tan(x) \\\\).\",\n",
    "        \"\\\\( \\\\cos(x) \\\\).\"\n",
    "      ],\n",
    "      \"answer\": [\"\\\\( \\\\cos(x) \\\\).\"],\n",
    "      \"notes\": [\"The derivative of \\\\( \\\\sin(x) \\\\) is \\\\( \\\\cos(x) \\\\).\"]\n",
    "    },\n",
    "    {\n",
    "      \"type\": \"NUMERIC\",\n",
    "      \"body\": \"What's the derivative of z (z'), with respect to x, of z = 4y+x?\",\n",
    "      \"answer\": \"1\",\n",
    "      \"notes\": []\n",
    "    }\n",
    "  ],\n",
    "  \"status\": \"success\"\n",
    "}\"\"\"\n",
    "\n",
    "# Test without faceit\n",
    "from ipyquizjb.questions import display_json\n",
    "display_json(test_json)"
   ]
  },
  {
   "cell_type": "code",
   "execution_count": null,
   "metadata": {
    "tags": [
     "thebe-remove-input-init"
    ]
   },
   "outputs": [],
   "source": [
    "# display(widgets.HTML(\"<h2>Test your knowledge</h2>\"))\n",
    "\n",
    "# questions: list[Question] = [\n",
    "#     {\n",
    "#         \"type\": \"MULTIPLE_CHOICE\",\n",
    "#         \"body\": \"What is your name?\",\n",
    "#         \"answers\": [\"Jakob\", \"Jørgen\", \"Ravi\"],\n",
    "#         \"answer\": [\"Jakob\"]\n",
    "#     },\n",
    "#     {\n",
    "#         \"type\": \"NUMERIC\",\n",
    "#         \"body\": \"What is 2 + 5?\",\n",
    "#         \"answer\": \"7\"\n",
    "#     },\n",
    "#     {\n",
    "#         \"type\": \"NUMERIC\",\n",
    "#         \"body\": \"What is 2/4 + 1/4?\",\n",
    "#         \"answer\": \"0.75\"\n",
    "#     },\n",
    "#     {\n",
    "#         \"type\": \"MULTIPLE_CHOICE\",\n",
    "#         \"body\": \"Which of these are cheeses?\",\n",
    "#         \"answers\": [\"Gouda\", \"Emmentaler\", \"Brie\", \"Cat\", \"Dog\"],\n",
    "#         \"answer\": [\"Gouda\", \"Emmentaler\", \"Brie\"]\n",
    "#     }\n",
    "# ]\n",
    "\n",
    "# from ipyquiz.questions import display_questions\n",
    "# display_questions(questions)\n",
    "from IPython.display import Latex\n",
    "display(Latex(r\"Some math and <i>HTML</i>: \\(x^2\\) and $$\\frac{x+1}{x-1}$$\"))\n",
    "\n",
    "\n"
   ]
  },
  {
   "cell_type": "code",
   "execution_count": null,
   "metadata": {},
   "outputs": [],
   "source": [
    "# Define your function for coding task here:\n",
    "\n",
    "def test(x, y):\n",
    "    return 2+x+y\n",
    "\n",
    "def tet(x, y):\n",
    "    return x+y"
   ]
  },
  {
   "cell_type": "code",
   "execution_count": null,
   "metadata": {
    "tags": [
     "thebe-remove-input-init"
    ]
   },
   "outputs": [],
   "source": [
    "\n",
    "# display(code_question(\n",
    "#     \"Make a function that returns the sum of two numbers\", [((2, 2), 4)]))"
   ]
  }
 ],
 "metadata": {
  "kernelspec": {
   "display_name": ".venv",
   "language": "python",
   "name": "python3"
  },
  "language_info": {
   "codemirror_mode": {
    "name": "ipython",
    "version": 3
   },
   "file_extension": ".py",
   "mimetype": "text/x-python",
   "name": "python",
   "nbconvert_exporter": "python",
   "pygments_lexer": "ipython3",
   "version": "3.12.1"
  }
 },
 "nbformat": 4,
 "nbformat_minor": 2
}
